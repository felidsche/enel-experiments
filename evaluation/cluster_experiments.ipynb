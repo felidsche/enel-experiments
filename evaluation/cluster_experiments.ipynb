{
 "cells": [
  {
   "cell_type": "code",
   "execution_count": 1,
   "metadata": {},
   "outputs": [],
   "source": [
    "from pyspark.sql import types as T\n",
    "from pyspark.sql import functions as F"
   ]
  },
  {
   "cell_type": "markdown",
   "metadata": {},
   "source": [
    "# Analyse gbt-9000000-10-checkpoint"
   ]
  },
  {
   "cell_type": "code",
   "execution_count": null,
   "metadata": {},
   "outputs": [],
   "source": [
    "job_events_schema = T.StructType([\n",
    "    T.StructField(\"time\", T.LongType(), nullable=False),\n",
    "    T.StructField(\"missing_info\", T.LongType(), nullable=True),\n",
    "    T.StructField(\"job_id\", T.LongType(), nullable=False),\n",
    "    T.StructField(\"event_type\", T.LongType(), nullable=False),\n",
    "    T.StructField(\"user\", T.LongType(), nullable=True),\n",
    "    T.StructField(\"scheduling_class\", T.LongType(), nullable=True),\n",
    "    T.StructField(\"job_name\", T.StringType(), nullable=True),\n",
    "    T.StructField(\"logical_job_name\", T.StringType(), nullable=True)\n",
    "])"
   ]
  },
  {
   "cell_type": "code",
   "execution_count": 3,
   "metadata": {},
   "outputs": [],
   "source": [
    "gbt_big_checkpoint_df = spark.read.csv(\n",
    "    path=\"../output/cluster/GradientBoostedTrees/spark-5852506aefd747988e6e3e4545f09fbd_checkpoint.csv\",\n",
    "    sep=\",\",\n",
    "    header=True,\n",
    "    inferSchema=True\n",
    ")"
   ]
  },
  {
   "cell_type": "code",
   "execution_count": 5,
   "metadata": {},
   "outputs": [
    {
     "data": {
      "text/plain": [
       "DataFrame[_c0: int, status: string, stageId: int, attemptId: int, numTasks: int, numActiveTasks: int, numCompleteTasks: int, numFailedTasks: int, numKilledTasks: int, submissionTime: string, firstTaskLaunchedTime: string, completionTime: string, name: string, rddIds: string, taskAttempt: string, taskDuration: string, taskExecutorId: string, taskIndex: string, taskLaunchTime: string, taskId: string, rddId: string, tcMs: string]"
      ]
     },
     "execution_count": 5,
     "metadata": {},
     "output_type": "execute_result"
    }
   ],
   "source": [
    "gbt_big_df"
   ]
  },
  {
   "cell_type": "code",
   "execution_count": 6,
   "metadata": {},
   "outputs": [],
   "source": [
    "# mapping of rddIds to checkpoint times in ms\n",
    "rdd_tcs = {134: 1801, 245: 1121, 356: 3090}"
   ]
  },
  {
   "cell_type": "code",
   "execution_count": 7,
   "metadata": {},
   "outputs": [
    {
     "data": {
      "text/plain": [
       "{134: 1801, 245: 1121, 356: 3090}"
      ]
     },
     "execution_count": 7,
     "metadata": {},
     "output_type": "execute_result"
    }
   ],
   "source": [
    "rdd_tcs"
   ]
  }
 ],
 "metadata": {
  "kernelspec": {
   "display_name": "Python 3",
   "language": "python",
   "name": "python3"
  },
  "language_info": {
   "codemirror_mode": {
    "name": "ipython",
    "version": 3
   },
   "file_extension": ".py",
   "mimetype": "text/x-python",
   "name": "python",
   "nbconvert_exporter": "python",
   "pygments_lexer": "ipython3",
   "version": "3.9.1"
  }
 },
 "nbformat": 4,
 "nbformat_minor": 4
}
